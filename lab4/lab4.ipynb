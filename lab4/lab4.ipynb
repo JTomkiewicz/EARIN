{
 "cells": [
  {
   "cell_type": "markdown",
   "metadata": {},
   "source": [
    "## Part 1. Data loading & analysis\n",
    "\n",
    "In the beginning, we are loading the data into the program. The dataset we worked on contained two possible file types: txt and arff. We used arff because the file already included the column names. Moreover, arff file class 'column' consists of only two values (normal and anomaly), which is helpful later in the preprocessing part."
   ]
  },
  {
   "cell_type": "code",
   "execution_count": 16,
   "metadata": {},
   "outputs": [
    {
     "name": "stdout",
     "output_type": "stream",
     "text": [
      "train_set dimensions: (125973, 42)\n",
      "test_set dimensions: (22544, 42)\n"
     ]
    }
   ],
   "source": [
    "from scipy.io import arff\n",
    "import pandas as pd\n",
    "\n",
    "train_set = arff.loadarff('KDDTrain+.arff')[0]\n",
    "test_set = arff.loadarff('KDDTest+.arff')[0]\n",
    "\n",
    "train_set = pd.DataFrame(train_set)\n",
    "test_set = pd.DataFrame(test_set)\n",
    "\n",
    "print(f'train_set dimensions: {train_set.shape}')\n",
    "print(f'test_set dimensions: {test_set.shape}')"
   ]
  },
  {
   "cell_type": "markdown",
   "metadata": {},
   "source": [
    "Here we can see the overall structure of the train and test sets. Both sets consist of 42 columns."
   ]
  },
  {
   "cell_type": "code",
   "execution_count": 17,
   "metadata": {
    "vscode": {
     "languageId": "markdown"
    }
   },
   "outputs": [
    {
     "data": {
      "text/html": [
       "<div>\n",
       "<style scoped>\n",
       "    .dataframe tbody tr th:only-of-type {\n",
       "        vertical-align: middle;\n",
       "    }\n",
       "\n",
       "    .dataframe tbody tr th {\n",
       "        vertical-align: top;\n",
       "    }\n",
       "\n",
       "    .dataframe thead th {\n",
       "        text-align: right;\n",
       "    }\n",
       "</style>\n",
       "<table border=\"1\" class=\"dataframe\">\n",
       "  <thead>\n",
       "    <tr style=\"text-align: right;\">\n",
       "      <th></th>\n",
       "      <th>duration</th>\n",
       "      <th>protocol_type</th>\n",
       "      <th>service</th>\n",
       "      <th>flag</th>\n",
       "      <th>src_bytes</th>\n",
       "      <th>dst_bytes</th>\n",
       "      <th>land</th>\n",
       "      <th>wrong_fragment</th>\n",
       "      <th>urgent</th>\n",
       "      <th>hot</th>\n",
       "      <th>...</th>\n",
       "      <th>dst_host_srv_count</th>\n",
       "      <th>dst_host_same_srv_rate</th>\n",
       "      <th>dst_host_diff_srv_rate</th>\n",
       "      <th>dst_host_same_src_port_rate</th>\n",
       "      <th>dst_host_srv_diff_host_rate</th>\n",
       "      <th>dst_host_serror_rate</th>\n",
       "      <th>dst_host_srv_serror_rate</th>\n",
       "      <th>dst_host_rerror_rate</th>\n",
       "      <th>dst_host_srv_rerror_rate</th>\n",
       "      <th>class</th>\n",
       "    </tr>\n",
       "  </thead>\n",
       "  <tbody>\n",
       "    <tr>\n",
       "      <th>0</th>\n",
       "      <td>0.0</td>\n",
       "      <td>b'tcp'</td>\n",
       "      <td>b'ftp_data'</td>\n",
       "      <td>b'SF'</td>\n",
       "      <td>491.0</td>\n",
       "      <td>0.0</td>\n",
       "      <td>b'0'</td>\n",
       "      <td>0.0</td>\n",
       "      <td>0.0</td>\n",
       "      <td>0.0</td>\n",
       "      <td>...</td>\n",
       "      <td>25.0</td>\n",
       "      <td>0.17</td>\n",
       "      <td>0.03</td>\n",
       "      <td>0.17</td>\n",
       "      <td>0.00</td>\n",
       "      <td>0.00</td>\n",
       "      <td>0.00</td>\n",
       "      <td>0.05</td>\n",
       "      <td>0.00</td>\n",
       "      <td>b'normal'</td>\n",
       "    </tr>\n",
       "    <tr>\n",
       "      <th>1</th>\n",
       "      <td>0.0</td>\n",
       "      <td>b'udp'</td>\n",
       "      <td>b'other'</td>\n",
       "      <td>b'SF'</td>\n",
       "      <td>146.0</td>\n",
       "      <td>0.0</td>\n",
       "      <td>b'0'</td>\n",
       "      <td>0.0</td>\n",
       "      <td>0.0</td>\n",
       "      <td>0.0</td>\n",
       "      <td>...</td>\n",
       "      <td>1.0</td>\n",
       "      <td>0.00</td>\n",
       "      <td>0.60</td>\n",
       "      <td>0.88</td>\n",
       "      <td>0.00</td>\n",
       "      <td>0.00</td>\n",
       "      <td>0.00</td>\n",
       "      <td>0.00</td>\n",
       "      <td>0.00</td>\n",
       "      <td>b'normal'</td>\n",
       "    </tr>\n",
       "    <tr>\n",
       "      <th>2</th>\n",
       "      <td>0.0</td>\n",
       "      <td>b'tcp'</td>\n",
       "      <td>b'private'</td>\n",
       "      <td>b'S0'</td>\n",
       "      <td>0.0</td>\n",
       "      <td>0.0</td>\n",
       "      <td>b'0'</td>\n",
       "      <td>0.0</td>\n",
       "      <td>0.0</td>\n",
       "      <td>0.0</td>\n",
       "      <td>...</td>\n",
       "      <td>26.0</td>\n",
       "      <td>0.10</td>\n",
       "      <td>0.05</td>\n",
       "      <td>0.00</td>\n",
       "      <td>0.00</td>\n",
       "      <td>1.00</td>\n",
       "      <td>1.00</td>\n",
       "      <td>0.00</td>\n",
       "      <td>0.00</td>\n",
       "      <td>b'anomaly'</td>\n",
       "    </tr>\n",
       "    <tr>\n",
       "      <th>3</th>\n",
       "      <td>0.0</td>\n",
       "      <td>b'tcp'</td>\n",
       "      <td>b'http'</td>\n",
       "      <td>b'SF'</td>\n",
       "      <td>232.0</td>\n",
       "      <td>8153.0</td>\n",
       "      <td>b'0'</td>\n",
       "      <td>0.0</td>\n",
       "      <td>0.0</td>\n",
       "      <td>0.0</td>\n",
       "      <td>...</td>\n",
       "      <td>255.0</td>\n",
       "      <td>1.00</td>\n",
       "      <td>0.00</td>\n",
       "      <td>0.03</td>\n",
       "      <td>0.04</td>\n",
       "      <td>0.03</td>\n",
       "      <td>0.01</td>\n",
       "      <td>0.00</td>\n",
       "      <td>0.01</td>\n",
       "      <td>b'normal'</td>\n",
       "    </tr>\n",
       "    <tr>\n",
       "      <th>4</th>\n",
       "      <td>0.0</td>\n",
       "      <td>b'tcp'</td>\n",
       "      <td>b'http'</td>\n",
       "      <td>b'SF'</td>\n",
       "      <td>199.0</td>\n",
       "      <td>420.0</td>\n",
       "      <td>b'0'</td>\n",
       "      <td>0.0</td>\n",
       "      <td>0.0</td>\n",
       "      <td>0.0</td>\n",
       "      <td>...</td>\n",
       "      <td>255.0</td>\n",
       "      <td>1.00</td>\n",
       "      <td>0.00</td>\n",
       "      <td>0.00</td>\n",
       "      <td>0.00</td>\n",
       "      <td>0.00</td>\n",
       "      <td>0.00</td>\n",
       "      <td>0.00</td>\n",
       "      <td>0.00</td>\n",
       "      <td>b'normal'</td>\n",
       "    </tr>\n",
       "  </tbody>\n",
       "</table>\n",
       "<p>5 rows × 42 columns</p>\n",
       "</div>"
      ],
      "text/plain": [
       "   duration protocol_type      service   flag  src_bytes  dst_bytes  land  \\\n",
       "0       0.0        b'tcp'  b'ftp_data'  b'SF'      491.0        0.0  b'0'   \n",
       "1       0.0        b'udp'     b'other'  b'SF'      146.0        0.0  b'0'   \n",
       "2       0.0        b'tcp'   b'private'  b'S0'        0.0        0.0  b'0'   \n",
       "3       0.0        b'tcp'      b'http'  b'SF'      232.0     8153.0  b'0'   \n",
       "4       0.0        b'tcp'      b'http'  b'SF'      199.0      420.0  b'0'   \n",
       "\n",
       "   wrong_fragment  urgent  hot  ...  dst_host_srv_count  \\\n",
       "0             0.0     0.0  0.0  ...                25.0   \n",
       "1             0.0     0.0  0.0  ...                 1.0   \n",
       "2             0.0     0.0  0.0  ...                26.0   \n",
       "3             0.0     0.0  0.0  ...               255.0   \n",
       "4             0.0     0.0  0.0  ...               255.0   \n",
       "\n",
       "  dst_host_same_srv_rate  dst_host_diff_srv_rate  dst_host_same_src_port_rate  \\\n",
       "0                   0.17                    0.03                         0.17   \n",
       "1                   0.00                    0.60                         0.88   \n",
       "2                   0.10                    0.05                         0.00   \n",
       "3                   1.00                    0.00                         0.03   \n",
       "4                   1.00                    0.00                         0.00   \n",
       "\n",
       "   dst_host_srv_diff_host_rate  dst_host_serror_rate  \\\n",
       "0                         0.00                  0.00   \n",
       "1                         0.00                  0.00   \n",
       "2                         0.00                  1.00   \n",
       "3                         0.04                  0.03   \n",
       "4                         0.00                  0.00   \n",
       "\n",
       "   dst_host_srv_serror_rate  dst_host_rerror_rate  dst_host_srv_rerror_rate  \\\n",
       "0                      0.00                  0.05                      0.00   \n",
       "1                      0.00                  0.00                      0.00   \n",
       "2                      1.00                  0.00                      0.00   \n",
       "3                      0.01                  0.00                      0.01   \n",
       "4                      0.00                  0.00                      0.00   \n",
       "\n",
       "        class  \n",
       "0   b'normal'  \n",
       "1   b'normal'  \n",
       "2  b'anomaly'  \n",
       "3   b'normal'  \n",
       "4   b'normal'  \n",
       "\n",
       "[5 rows x 42 columns]"
      ]
     },
     "execution_count": 17,
     "metadata": {},
     "output_type": "execute_result"
    }
   ],
   "source": [
    "train_set.head()"
   ]
  },
  {
   "cell_type": "code",
   "execution_count": 18,
   "metadata": {},
   "outputs": [
    {
     "data": {
      "text/html": [
       "<div>\n",
       "<style scoped>\n",
       "    .dataframe tbody tr th:only-of-type {\n",
       "        vertical-align: middle;\n",
       "    }\n",
       "\n",
       "    .dataframe tbody tr th {\n",
       "        vertical-align: top;\n",
       "    }\n",
       "\n",
       "    .dataframe thead th {\n",
       "        text-align: right;\n",
       "    }\n",
       "</style>\n",
       "<table border=\"1\" class=\"dataframe\">\n",
       "  <thead>\n",
       "    <tr style=\"text-align: right;\">\n",
       "      <th></th>\n",
       "      <th>duration</th>\n",
       "      <th>protocol_type</th>\n",
       "      <th>service</th>\n",
       "      <th>flag</th>\n",
       "      <th>src_bytes</th>\n",
       "      <th>dst_bytes</th>\n",
       "      <th>land</th>\n",
       "      <th>wrong_fragment</th>\n",
       "      <th>urgent</th>\n",
       "      <th>hot</th>\n",
       "      <th>...</th>\n",
       "      <th>dst_host_srv_count</th>\n",
       "      <th>dst_host_same_srv_rate</th>\n",
       "      <th>dst_host_diff_srv_rate</th>\n",
       "      <th>dst_host_same_src_port_rate</th>\n",
       "      <th>dst_host_srv_diff_host_rate</th>\n",
       "      <th>dst_host_serror_rate</th>\n",
       "      <th>dst_host_srv_serror_rate</th>\n",
       "      <th>dst_host_rerror_rate</th>\n",
       "      <th>dst_host_srv_rerror_rate</th>\n",
       "      <th>class</th>\n",
       "    </tr>\n",
       "  </thead>\n",
       "  <tbody>\n",
       "    <tr>\n",
       "      <th>0</th>\n",
       "      <td>0.0</td>\n",
       "      <td>b'tcp'</td>\n",
       "      <td>b'private'</td>\n",
       "      <td>b'REJ'</td>\n",
       "      <td>0.0</td>\n",
       "      <td>0.0</td>\n",
       "      <td>b'0'</td>\n",
       "      <td>0.0</td>\n",
       "      <td>0.0</td>\n",
       "      <td>0.0</td>\n",
       "      <td>...</td>\n",
       "      <td>10.0</td>\n",
       "      <td>0.04</td>\n",
       "      <td>0.06</td>\n",
       "      <td>0.00</td>\n",
       "      <td>0.00</td>\n",
       "      <td>0.0</td>\n",
       "      <td>0.0</td>\n",
       "      <td>1.00</td>\n",
       "      <td>1.00</td>\n",
       "      <td>b'anomaly'</td>\n",
       "    </tr>\n",
       "    <tr>\n",
       "      <th>1</th>\n",
       "      <td>0.0</td>\n",
       "      <td>b'tcp'</td>\n",
       "      <td>b'private'</td>\n",
       "      <td>b'REJ'</td>\n",
       "      <td>0.0</td>\n",
       "      <td>0.0</td>\n",
       "      <td>b'0'</td>\n",
       "      <td>0.0</td>\n",
       "      <td>0.0</td>\n",
       "      <td>0.0</td>\n",
       "      <td>...</td>\n",
       "      <td>1.0</td>\n",
       "      <td>0.00</td>\n",
       "      <td>0.06</td>\n",
       "      <td>0.00</td>\n",
       "      <td>0.00</td>\n",
       "      <td>0.0</td>\n",
       "      <td>0.0</td>\n",
       "      <td>1.00</td>\n",
       "      <td>1.00</td>\n",
       "      <td>b'anomaly'</td>\n",
       "    </tr>\n",
       "    <tr>\n",
       "      <th>2</th>\n",
       "      <td>2.0</td>\n",
       "      <td>b'tcp'</td>\n",
       "      <td>b'ftp_data'</td>\n",
       "      <td>b'SF'</td>\n",
       "      <td>12983.0</td>\n",
       "      <td>0.0</td>\n",
       "      <td>b'0'</td>\n",
       "      <td>0.0</td>\n",
       "      <td>0.0</td>\n",
       "      <td>0.0</td>\n",
       "      <td>...</td>\n",
       "      <td>86.0</td>\n",
       "      <td>0.61</td>\n",
       "      <td>0.04</td>\n",
       "      <td>0.61</td>\n",
       "      <td>0.02</td>\n",
       "      <td>0.0</td>\n",
       "      <td>0.0</td>\n",
       "      <td>0.00</td>\n",
       "      <td>0.00</td>\n",
       "      <td>b'normal'</td>\n",
       "    </tr>\n",
       "    <tr>\n",
       "      <th>3</th>\n",
       "      <td>0.0</td>\n",
       "      <td>b'icmp'</td>\n",
       "      <td>b'eco_i'</td>\n",
       "      <td>b'SF'</td>\n",
       "      <td>20.0</td>\n",
       "      <td>0.0</td>\n",
       "      <td>b'0'</td>\n",
       "      <td>0.0</td>\n",
       "      <td>0.0</td>\n",
       "      <td>0.0</td>\n",
       "      <td>...</td>\n",
       "      <td>57.0</td>\n",
       "      <td>1.00</td>\n",
       "      <td>0.00</td>\n",
       "      <td>1.00</td>\n",
       "      <td>0.28</td>\n",
       "      <td>0.0</td>\n",
       "      <td>0.0</td>\n",
       "      <td>0.00</td>\n",
       "      <td>0.00</td>\n",
       "      <td>b'anomaly'</td>\n",
       "    </tr>\n",
       "    <tr>\n",
       "      <th>4</th>\n",
       "      <td>1.0</td>\n",
       "      <td>b'tcp'</td>\n",
       "      <td>b'telnet'</td>\n",
       "      <td>b'RSTO'</td>\n",
       "      <td>0.0</td>\n",
       "      <td>15.0</td>\n",
       "      <td>b'0'</td>\n",
       "      <td>0.0</td>\n",
       "      <td>0.0</td>\n",
       "      <td>0.0</td>\n",
       "      <td>...</td>\n",
       "      <td>86.0</td>\n",
       "      <td>0.31</td>\n",
       "      <td>0.17</td>\n",
       "      <td>0.03</td>\n",
       "      <td>0.02</td>\n",
       "      <td>0.0</td>\n",
       "      <td>0.0</td>\n",
       "      <td>0.83</td>\n",
       "      <td>0.71</td>\n",
       "      <td>b'anomaly'</td>\n",
       "    </tr>\n",
       "  </tbody>\n",
       "</table>\n",
       "<p>5 rows × 42 columns</p>\n",
       "</div>"
      ],
      "text/plain": [
       "   duration protocol_type      service     flag  src_bytes  dst_bytes  land  \\\n",
       "0       0.0        b'tcp'   b'private'   b'REJ'        0.0        0.0  b'0'   \n",
       "1       0.0        b'tcp'   b'private'   b'REJ'        0.0        0.0  b'0'   \n",
       "2       2.0        b'tcp'  b'ftp_data'    b'SF'    12983.0        0.0  b'0'   \n",
       "3       0.0       b'icmp'     b'eco_i'    b'SF'       20.0        0.0  b'0'   \n",
       "4       1.0        b'tcp'    b'telnet'  b'RSTO'        0.0       15.0  b'0'   \n",
       "\n",
       "   wrong_fragment  urgent  hot  ...  dst_host_srv_count  \\\n",
       "0             0.0     0.0  0.0  ...                10.0   \n",
       "1             0.0     0.0  0.0  ...                 1.0   \n",
       "2             0.0     0.0  0.0  ...                86.0   \n",
       "3             0.0     0.0  0.0  ...                57.0   \n",
       "4             0.0     0.0  0.0  ...                86.0   \n",
       "\n",
       "  dst_host_same_srv_rate  dst_host_diff_srv_rate  dst_host_same_src_port_rate  \\\n",
       "0                   0.04                    0.06                         0.00   \n",
       "1                   0.00                    0.06                         0.00   \n",
       "2                   0.61                    0.04                         0.61   \n",
       "3                   1.00                    0.00                         1.00   \n",
       "4                   0.31                    0.17                         0.03   \n",
       "\n",
       "   dst_host_srv_diff_host_rate  dst_host_serror_rate  \\\n",
       "0                         0.00                   0.0   \n",
       "1                         0.00                   0.0   \n",
       "2                         0.02                   0.0   \n",
       "3                         0.28                   0.0   \n",
       "4                         0.02                   0.0   \n",
       "\n",
       "   dst_host_srv_serror_rate  dst_host_rerror_rate  dst_host_srv_rerror_rate  \\\n",
       "0                       0.0                  1.00                      1.00   \n",
       "1                       0.0                  1.00                      1.00   \n",
       "2                       0.0                  0.00                      0.00   \n",
       "3                       0.0                  0.00                      0.00   \n",
       "4                       0.0                  0.83                      0.71   \n",
       "\n",
       "        class  \n",
       "0  b'anomaly'  \n",
       "1  b'anomaly'  \n",
       "2   b'normal'  \n",
       "3  b'anomaly'  \n",
       "4  b'anomaly'  \n",
       "\n",
       "[5 rows x 42 columns]"
      ]
     },
     "execution_count": 18,
     "metadata": {},
     "output_type": "execute_result"
    }
   ],
   "source": [
    "test_set.head()"
   ]
  },
  {
   "cell_type": "markdown",
   "metadata": {},
   "source": [
    "As mentioned earlier, the 'class' column consists of only two options: normal and anomaly."
   ]
  },
  {
   "cell_type": "code",
   "execution_count": 19,
   "metadata": {},
   "outputs": [
    {
     "name": "stdout",
     "output_type": "stream",
     "text": [
      "train_set class distribution:\n",
      "b'normal'     67343\n",
      "b'anomaly'    58630\n",
      "Name: class, dtype: int64\n",
      "\n",
      "test_set class distribution:\n",
      "b'anomaly'    12833\n",
      "b'normal'      9711\n",
      "Name: class, dtype: int64\n"
     ]
    }
   ],
   "source": [
    "print('train_set class distribution:')\n",
    "print(train_set['class'].value_counts())\n",
    "\n",
    "print()\n",
    "\n",
    "print('test_set class distribution:')\n",
    "print(test_set['class'].value_counts())"
   ]
  },
  {
   "cell_type": "markdown",
   "metadata": {},
   "source": [
    "## Part 2. Data preprocessing"
   ]
  },
  {
   "cell_type": "markdown",
   "metadata": {},
   "source": [
    "From the heatmap, we can see that many columns have a high correlation value. To make the computing easier, we can remove the columns that have a close to 1 correlation value since they will not affect the result."
   ]
  },
  {
   "cell_type": "code",
   "execution_count": 20,
   "metadata": {
    "vscode": {
     "languageId": "markdown"
    }
   },
   "outputs": [
    {
     "data": {
      "image/png": "[encoded data removed]",
      "text/plain": [
       "<Figure size 864x864 with 2 Axes>"
      ]
     },
     "metadata": {
      "needs_background": "light"
     },
     "output_type": "display_data"
    }
   ],
   "source": [
    "import matplotlib.pyplot as plt\n",
    "import seaborn as sns\n",
    "\n",
    "train_set = train_set[[column for column in train_set if train_set[column].nunique() > 1]]\n",
    "\n",
    "corr = train_set.corr()\n",
    "plt.figure(figsize = (12, 12))\n",
    "sns.heatmap(corr)\n",
    "plt.show()"
   ]
  },
  {
   "cell_type": "code",
   "execution_count": 21,
   "metadata": {
    "vscode": {
     "languageId": "markdown"
    }
   },
   "outputs": [],
   "source": [
    "train_set = train_set.drop('num_root', axis = 1)\n",
    "train_set = train_set.drop('srv_serror_rate', axis = 1)\n",
    "train_set = train_set.drop('srv_rerror_rate', axis = 1)\n",
    "train_set = train_set.drop('dst_host_srv_serror_rate', axis = 1)\n",
    "train_set = train_set.drop('dst_host_serror_rate', axis = 1)\n",
    "train_set = train_set.drop('dst_host_rerror_rate', axis = 1)\n",
    "train_set = train_set.drop('dst_host_same_srv_rate', axis = 1)\n",
    "train_set = train_set.drop('dst_host_srv_rerror_rate', axis = 1)\n",
    "\n",
    "test_set = test_set.drop('num_root', axis = 1)\n",
    "test_set = test_set.drop('srv_serror_rate', axis = 1)\n",
    "test_set = test_set.drop('srv_rerror_rate', axis = 1)\n",
    "test_set = test_set.drop('dst_host_srv_serror_rate', axis = 1)\n",
    "test_set = test_set.drop('dst_host_serror_rate', axis = 1)\n",
    "test_set = test_set.drop('dst_host_rerror_rate', axis = 1)\n",
    "test_set = test_set.drop('dst_host_srv_rerror_rate', axis = 1)\n",
    "test_set = test_set.drop('dst_host_same_srv_rate', axis = 1)"
   ]
  },
  {
   "cell_type": "markdown",
   "metadata": {},
   "source": [
    "Since we need only numerical values in our dataset to perform the calculations, we must somehow change all strings into these numerical substitutes. We have created dictionaries with all unique strings for four columns (protocol_type, flag, service, class) and mapped the string values to integers."
   ]
  },
  {
   "cell_type": "code",
   "execution_count": 22,
   "metadata": {
    "vscode": {
     "languageId": "markdown"
    }
   },
   "outputs": [],
   "source": [
    "protocol_types_dictionary = {}\n",
    "\n",
    "types = test_set['protocol_type'].unique()\n",
    "for x in range(len(types)):\n",
    "    protocol_types_dictionary[types[x]] = x\n",
    "test_set['protocol_type'] = test_set['protocol_type'].map(protocol_types_dictionary)\n",
    "train_set['protocol_type'] = train_set['protocol_type'].map(protocol_types_dictionary)\n",
    "\n",
    "flag_types_dictionary = {}\n",
    "\n",
    "types = test_set['flag'].unique()\n",
    "for x in range(len(types)):\n",
    "    flag_types_dictionary[types[x]] = x\n",
    "test_set['flag'] = test_set['flag'].map(flag_types_dictionary)\n",
    "train_set['flag'] = train_set['flag'].map(flag_types_dictionary)\n",
    "\n",
    "service_types_dictionary = {}\n",
    "\n",
    "types = train_set['service'].unique()\n",
    "for x in range(len(types)):\n",
    "    service_types_dictionary[types[x]] = x\n",
    "train_set['service'] = train_set['service'].map(service_types_dictionary)\n",
    "test_set['service'] = test_set['service'].map(service_types_dictionary)\n",
    "\n",
    "class_types_dictionary = {}\n",
    "\n",
    "types = test_set['class'].unique()\n",
    "for x in range(len(types)):\n",
    "    class_types_dictionary[types[x]] = x\n",
    "train_set['class'] = train_set['class'].map(class_types_dictionary)\n",
    "test_set['class'] = test_set['class'].map(class_types_dictionary)"
   ]
  },
  {
   "cell_type": "markdown",
   "metadata": {},
   "source": [
    "Since the number of columns in the train and test sets were different, we needed to check the difference in the collections of column names for both data sets. It turned out that the test set contained an additional row named num_outbound_cmds."
   ]
  },
  {
   "cell_type": "code",
   "execution_count": 23,
   "metadata": {
    "vscode": {
     "languageId": "markdown"
    }
   },
   "outputs": [
    {
     "name": "stdout",
     "output_type": "stream",
     "text": [
      "Index(['num_outbound_cmds'], dtype='object')\n"
     ]
    }
   ],
   "source": [
    "train_set_columns = train_set.columns\n",
    "test_set_columns = test_set.columns\n",
    "\n",
    "difference = test_set_columns.difference(train_set_columns)\n",
    "\n",
    "print(difference)"
   ]
  },
  {
   "cell_type": "code",
   "execution_count": 24,
   "metadata": {},
   "outputs": [],
   "source": [
    "test_set = test_set.drop('num_outbound_cmds', axis = 1)"
   ]
  },
  {
   "cell_type": "markdown",
   "metadata": {},
   "source": [
    "As the Y values, we need to set the class columns since they contain the information on whether the packet is an anomaly or not. We can drop the class column when the Y is set and place all the remaining columns' data as the X value."
   ]
  },
  {
   "cell_type": "code",
   "execution_count": 25,
   "metadata": {
    "vscode": {
     "languageId": "markdown"
    }
   },
   "outputs": [],
   "source": [
    "train_y = train_set['class']\n",
    "\n",
    "train_set = train_set.drop('class', axis = 1)\n",
    "\n",
    "train_x = train_set.iloc[:, :].values\n",
    "\n",
    "test_y = test_set['class']\n",
    "\n",
    "test_set = test_set.drop('class', axis = 1)\n",
    "\n",
    "test_x = test_set.iloc[:, :].values"
   ]
  },
  {
   "cell_type": "markdown",
   "metadata": {},
   "source": [
    "## Part 3. Prediction & evalutaion"
   ]
  },
  {
   "cell_type": "markdown",
   "metadata": {},
   "source": [
    "Thanks to the pythons' sklearn (scikit-learn) library, the prediction and evaluation process is pretty straightforward. \n",
    "\n",
    "We used three different methods: Logistic Regression, Random Forest, and Decision Tree. \n",
    "\n",
    "In all of them, the implementation is nearly the same. We train the model using a suitable method that takes the input and output of the train data set as the parameters. After that, we can predict the test output value using predict method. The last step is to calculate the accuracy using the scoring method."
   ]
  },
  {
   "cell_type": "code",
   "execution_count": 26,
   "metadata": {
    "vscode": {
     "languageId": "markdown"
    }
   },
   "outputs": [
    {
     "name": "stdout",
     "output_type": "stream",
     "text": [
      "training time: 2.1337077617645264\n",
      "testing time: 0.024903059005737305\n",
      "accuracy: 0.7027146912704045\n"
     ]
    }
   ],
   "source": [
    "from sklearn.linear_model import LogisticRegression\n",
    "import time\n",
    "\n",
    "logistic_regression = LogisticRegression(max_iter = 1000000)\n",
    "\n",
    "start_time = time.time()\n",
    "\n",
    "logistic_regression.fit(train_x, train_y)\n",
    "\n",
    "lr_train_time = time.time() - start_time\n",
    "\n",
    "print(f'training time: {lr_train_time}')\n",
    "\n",
    "start_time = time.time()\n",
    "\n",
    "logistic_regression.predict(test_x)\n",
    "\n",
    "lr_test_time = time.time() - start_time\n",
    "\n",
    "print(f'testing time: {lr_test_time}')\n",
    "\n",
    "lr_score = logistic_regression.score(test_x, test_y)\n",
    "print(f'accuracy: {lr_score}')"
   ]
  },
  {
   "cell_type": "code",
   "execution_count": 27,
   "metadata": {},
   "outputs": [
    {
     "name": "stdout",
     "output_type": "stream",
     "text": [
      "training time: 2.253680944442749\n",
      "testing time: 0.07863688468933105\n",
      "accuracy: 0.7846433640880057\n"
     ]
    }
   ],
   "source": [
    "from sklearn.ensemble import RandomForestClassifier\n",
    "\n",
    "random_forest = RandomForestClassifier(n_estimators = 30)\n",
    "\n",
    "start_time = time.time()\n",
    "\n",
    "random_forest.fit(train_x, train_y)\n",
    "\n",
    "rf_train_time = time.time() - start_time\n",
    "\n",
    "print(f'training time: {rf_train_time}')\n",
    "\n",
    "start_time = time.time()\n",
    "\n",
    "random_forest.predict(test_x)\n",
    "\n",
    "rf_test_time = time.time() - start_time\n",
    "\n",
    "print(f'testing time: {rf_test_time}')\n",
    "\n",
    "rf_score = random_forest.score(test_x, test_y)\n",
    "print(f'accuracy: {rf_score}')"
   ]
  },
  {
   "cell_type": "code",
   "execution_count": 28,
   "metadata": {},
   "outputs": [
    {
     "name": "stdout",
     "output_type": "stream",
     "text": [
      "training time: 0.3344721794128418\n",
      "testing time: 0.025682926177978516\n",
      "accuracy: 0.7590046132008517\n"
     ]
    }
   ],
   "source": [
    "from sklearn.tree import DecisionTreeClassifier\n",
    "\n",
    "decision_tree = DecisionTreeClassifier(criterion =\"entropy\", max_depth = 4)\n",
    "\n",
    "start_time = time.time()\n",
    "\n",
    "decision_tree.fit(train_x, train_y)\n",
    "\n",
    "dt_train_time = time.time() - start_time\n",
    "\n",
    "print(f'training time: {dt_train_time}')\n",
    "\n",
    "start_time = time.time()\n",
    "\n",
    "decision_tree.predict(test_x)\n",
    "\n",
    "dt_test_time = time.time() - start_time\n",
    "\n",
    "print(f'testing time: {dt_test_time}')\n",
    "\n",
    "dt_score = decision_tree.score(test_x, test_y)\n",
    "print(f'accuracy: {dt_score}')"
   ]
  },
  {
   "cell_type": "markdown",
   "metadata": {},
   "source": [
    "When comparing the accuracy of the three methods, the apparent differences are tiny. the best is Random Forest, but Logistic Regression and Decision Tree are only marginally worse."
   ]
  },
  {
   "cell_type": "code",
   "execution_count": 29,
   "metadata": {},
   "outputs": [
    {
     "data": {
      "text/plain": [
       "<BarContainer object of 3 artists>"
      ]
     },
     "execution_count": 29,
     "metadata": {},
     "output_type": "execute_result"
    },
    {
     "data": {
      "image/png": "[encoded data removed]",
      "text/plain": [
       "<Figure size 432x288 with 1 Axes>"
      ]
     },
     "metadata": {
      "needs_background": "light"
     },
     "output_type": "display_data"
    }
   ],
   "source": [
    "names = ['Logistic Regression', 'Random Forest', 'Decision Tree']\n",
    "\n",
    "scores = [lr_score, rf_score, dt_score]\n",
    "\n",
    "plt.figure()\n",
    "plt.subplot()\n",
    "plt.ylim([0, 1])\n",
    "plt.title('Accuracy comparison')\n",
    "plt.bar(names, scores)"
   ]
  },
  {
   "cell_type": "markdown",
   "metadata": {},
   "source": [
    "Comparing training time gives the most spectacular differences. Decision Tree is by far the fastest, almost ten times faster than Logistic Regression and Random Forest."
   ]
  },
  {
   "cell_type": "code",
   "execution_count": 33,
   "metadata": {},
   "outputs": [
    {
     "data": {
      "text/plain": [
       "<BarContainer object of 3 artists>"
      ]
     },
     "execution_count": 33,
     "metadata": {},
     "output_type": "execute_result"
    },
    {
     "data": {
      "image/png": "[encoded data removed]",
      "text/plain": [
       "<Figure size 432x288 with 1 Axes>"
      ]
     },
     "metadata": {
      "needs_background": "light"
     },
     "output_type": "display_data"
    }
   ],
   "source": [
    "names = ['Logistic Regression', 'Random Forest', 'Decision Tree']\n",
    "\n",
    "scores = [lr_train_time, rf_train_time, dt_train_time]\n",
    "\n",
    "plt.figure()\n",
    "plt.subplot()\n",
    "plt.ylim([0, 3])\n",
    "plt.title('Train time comparison')\n",
    "plt.bar(names, scores)"
   ]
  },
  {
   "cell_type": "markdown",
   "metadata": {},
   "source": [
    "When comparing the testing time, it's hard to find a favorite anymore. Logistic Regression and Decision Tree are practically equal and, therefore, four times faster than Random Forest."
   ]
  },
  {
   "cell_type": "code",
   "execution_count": 35,
   "metadata": {},
   "outputs": [
    {
     "data": {
      "text/plain": [
       "<BarContainer object of 3 artists>"
      ]
     },
     "execution_count": 35,
     "metadata": {},
     "output_type": "execute_result"
    },
    {
     "data": {
      "image/png": "[encoded data removed]",
      "text/plain": [
       "<Figure size 432x288 with 1 Axes>"
      ]
     },
     "metadata": {
      "needs_background": "light"
     },
     "output_type": "display_data"
    }
   ],
   "source": [
    "names = ['Logistic Regression', 'Random Forest', 'Decision Tree']\n",
    "\n",
    "scores = [lr_test_time, rf_test_time, dt_test_time]\n",
    "\n",
    "plt.figure()\n",
    "plt.subplot()\n",
    "plt.ylim([0, 0.1])\n",
    "plt.title('Test time comparison')\n",
    "plt.bar(names, scores)"
   ]
  },
  {
   "cell_type": "markdown",
   "metadata": {},
   "source": [
    "Summing up the comparison of both times and accuracy, we can say that the Random Forest is the most accurate but the slowest. However, Decision Tree is by far the fastest, and its accuracy is only slightly inferior to that of the Random Forest."
   ]
  }
 ],
 "metadata": {
  "interpreter": {
   "hash": "5747abed4665cd73bfee1b4c496f051b35d91587297a2f4627dce69f61dc3a6d"
  },
  "kernelspec": {
   "display_name": "test-env",
   "language": "python",
   "name": "python3"
  },
  "language_info": {
   "codemirror_mode": {
    "name": "ipython",
    "version": 3
   },
   "file_extension": ".py",
   "mimetype": "text/x-python",
   "name": "python",
   "nbconvert_exporter": "python",
   "pygments_lexer": "ipython3",
   "version": "3.9.12"
  },
  "orig_nbformat": 4
 },
 "nbformat": 4,
 "nbformat_minor": 2
}
