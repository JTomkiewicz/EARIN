{
 "cells": [
  {
   "cell_type": "code",
   "execution_count": 1,
   "metadata": {},
   "outputs": [
    {
     "name": "stderr",
     "output_type": "stream",
     "text": [
      "/home/konrad/anaconda3/envs/car/lib/python3.10/site-packages/torch/utils/tensorboard/__init__.py:4: DeprecationWarning: distutils Version classes are deprecated. Use packaging.version instead.\n",
      "  if not hasattr(tensorboard, '__version__') or LooseVersion(tensorboard.__version__) < LooseVersion('1.15'):\n",
      "/home/konrad/anaconda3/envs/car/lib/python3.10/site-packages/tensorboard/compat/tensorflow_stub/dtypes.py:568: DeprecationWarning: `np.object` is a deprecated alias for the builtin `object`. To silence this warning, use `object` by itself. Doing this will not modify any behavior and is safe. \n",
      "Deprecated in NumPy 1.20; for more details and guidance: https://numpy.org/devdocs/release/1.20.0-notes.html#deprecations\n",
      "  (np.object, string),\n",
      "/home/konrad/anaconda3/envs/car/lib/python3.10/site-packages/tensorboard/compat/tensorflow_stub/dtypes.py:569: DeprecationWarning: `np.bool` is a deprecated alias for the builtin `bool`. To silence this warning, use `bool` by itself. Doing this will not modify any behavior and is safe. If you specifically wanted the numpy scalar type, use `np.bool_` here.\n",
      "Deprecated in NumPy 1.20; for more details and guidance: https://numpy.org/devdocs/release/1.20.0-notes.html#deprecations\n",
      "  (np.bool, bool),\n",
      "/home/konrad/anaconda3/envs/car/lib/python3.10/site-packages/tensorboard/util/tensor_util.py:100: DeprecationWarning: `np.object` is a deprecated alias for the builtin `object`. To silence this warning, use `object` by itself. Doing this will not modify any behavior and is safe. \n",
      "Deprecated in NumPy 1.20; for more details and guidance: https://numpy.org/devdocs/release/1.20.0-notes.html#deprecations\n",
      "  np.object: SlowAppendObjectArrayToTensorProto,\n",
      "/home/konrad/anaconda3/envs/car/lib/python3.10/site-packages/tensorboard/util/tensor_util.py:101: DeprecationWarning: `np.bool` is a deprecated alias for the builtin `bool`. To silence this warning, use `bool` by itself. Doing this will not modify any behavior and is safe. If you specifically wanted the numpy scalar type, use `np.bool_` here.\n",
      "Deprecated in NumPy 1.20; for more details and guidance: https://numpy.org/devdocs/release/1.20.0-notes.html#deprecations\n",
      "  np.bool: SlowAppendBoolArrayToTensorProto,\n"
     ]
    }
   ],
   "source": [
    "import gym\n",
    "from stable_baselines3 import PPO, DDPG, SAC\n",
    "import os\n",
    "from stable_baselines3.common.evaluation import evaluate_policy\n",
    "\n",
    "os.environ[\"CUDA_VISIBLE_DEVICES\"] = \"\""
   ]
  },
  {
   "cell_type": "code",
   "execution_count": 11,
   "metadata": {},
   "outputs": [
    {
     "name": "stderr",
     "output_type": "stream",
     "text": [
      "/home/konrad/anaconda3/envs/car/lib/python3.10/site-packages/gym/utils/passive_env_checker.py:97: UserWarning: \u001b[33mWARN: We recommend you to use a symmetric and normalized Box action space (range=[-1, 1]) https://stable-baselines3.readthedocs.io/en/master/guide/rl_tips.html\u001b[0m\n",
      "  logger.warn(\n"
     ]
    },
    {
     "name": "stdout",
     "output_type": "stream",
     "text": [
      "Wrapping the env with a `Monitor` wrapper\n",
      "Wrapping the env in a DummyVecEnv.\n",
      "Wrapping the env in a VecTransposeImage.\n",
      "Wrapping the env with a `Monitor` wrapper\n",
      "Wrapping the env in a DummyVecEnv.\n",
      "Wrapping the env in a VecTransposeImage.\n",
      "Wrapping the env with a `Monitor` wrapper\n",
      "Wrapping the env in a DummyVecEnv.\n",
      "Wrapping the env in a VecTransposeImage.\n",
      "Wrapping the env with a `Monitor` wrapper\n",
      "Wrapping the env in a DummyVecEnv.\n",
      "Wrapping the env in a VecTransposeImage.\n",
      "Wrapping the env with a `Monitor` wrapper\n",
      "Wrapping the env in a DummyVecEnv.\n",
      "Wrapping the env in a VecTransposeImage.\n",
      "Wrapping the env with a `Monitor` wrapper\n",
      "Wrapping the env in a DummyVecEnv.\n",
      "Wrapping the env in a VecTransposeImage.\n",
      "Wrapping the env with a `Monitor` wrapper\n",
      "Wrapping the env in a DummyVecEnv.\n",
      "Wrapping the env in a VecTransposeImage.\n"
     ]
    }
   ],
   "source": [
    "env = gym.make(\"CarRacing-v1\")\n",
    "\n",
    "path_50k = os.path.join(\"training\", \"PPO_CnnPolicy_50k\")\n",
    "model_50k = PPO.load(path_50k, env=env)\n",
    "\n",
    "path_100k = os.path.join(\"training\", \"PPO_CnnPolicy_100kv2\")\n",
    "model_100k = PPO.load(path_100k, env=env)\n",
    "\n",
    "path_150k = os.path.join(\"training\", \"PPO_CnnPolicy_150k\")\n",
    "model_150k = PPO.load(path_150k, env=env)\n",
    "\n",
    "path_200k = os.path.join(\"training\", \"PPO_CnnPolicy_200k\")\n",
    "model_200k = PPO.load(path_200k, env=env)\n",
    "\n",
    "path_250k = os.path.join(\"training\", \"PPO_CnnPolicy_250k\")\n",
    "model_250k = PPO.load(path_250k, env=env)\n",
    "\n",
    "path_300k = os.path.join(\"training\", \"PPO_CnnPolicy_300k\")\n",
    "model_300k = PPO.load(path_300k, env=env)\n",
    "\n",
    "path_500k = os.path.join(\"training\", \"PPO_CnnPolicy_500k\")\n",
    "model_500k = PPO.load(path_500k, env=env)"
   ]
  },
  {
   "cell_type": "code",
   "execution_count": 3,
   "metadata": {},
   "outputs": [
    {
     "name": "stderr",
     "output_type": "stream",
     "text": [
      "/home/konrad/anaconda3/envs/car/lib/python3.10/site-packages/stable_baselines3/common/evaluation.py:65: UserWarning: Evaluation environment is not wrapped with a ``Monitor`` wrapper. This may result in reporting modified episode lengths and rewards, if other wrappers happen to modify these. Consider wrapping environment first with ``Monitor`` wrapper.\n",
      "  warnings.warn(\n"
     ]
    },
    {
     "name": "stdout",
     "output_type": "stream",
     "text": [
      "(410.31621540263296, 158.60835254525202)\n"
     ]
    }
   ],
   "source": [
    "result_50k = evaluate_policy(model_50k, env, n_eval_episodes=10, render=False)\n",
    "print(result_50k)"
   ]
  },
  {
   "cell_type": "code",
   "execution_count": 12,
   "metadata": {},
   "outputs": [
    {
     "name": "stderr",
     "output_type": "stream",
     "text": [
      "/home/konrad/anaconda3/envs/car/lib/python3.10/site-packages/stable_baselines3/common/evaluation.py:65: UserWarning: Evaluation environment is not wrapped with a ``Monitor`` wrapper. This may result in reporting modified episode lengths and rewards, if other wrappers happen to modify these. Consider wrapping environment first with ``Monitor`` wrapper.\n",
      "  warnings.warn(\n"
     ]
    },
    {
     "name": "stdout",
     "output_type": "stream",
     "text": [
      "(383.7222042374313, 180.85933264939564)\n"
     ]
    }
   ],
   "source": [
    "result_100k = evaluate_policy(model_100k, env, n_eval_episodes=10, render=False)\n",
    "print(result_100k)"
   ]
  },
  {
   "cell_type": "code",
   "execution_count": 5,
   "metadata": {},
   "outputs": [
    {
     "name": "stdout",
     "output_type": "stream",
     "text": [
      "(301.8425316475332, 161.8218149569359)\n"
     ]
    }
   ],
   "source": [
    "result_150k = evaluate_policy(model_150k, env, n_eval_episodes=10, render=False)\n",
    "print(result_150k)"
   ]
  },
  {
   "cell_type": "code",
   "execution_count": 6,
   "metadata": {},
   "outputs": [
    {
     "name": "stdout",
     "output_type": "stream",
     "text": [
      "(826.7237700909376, 193.6546101113886)\n"
     ]
    }
   ],
   "source": [
    "result_200k = evaluate_policy(model_200k, env, n_eval_episodes=10, render=False)\n",
    "print(result_200k)"
   ]
  },
  {
   "cell_type": "code",
   "execution_count": 7,
   "metadata": {},
   "outputs": [
    {
     "name": "stdout",
     "output_type": "stream",
     "text": [
      "(825.0856734797359, 84.33529221069931)\n"
     ]
    }
   ],
   "source": [
    "result_250k = evaluate_policy(model_250k, env, n_eval_episodes=10, render=False)\n",
    "print(result_250k)"
   ]
  },
  {
   "cell_type": "code",
   "execution_count": 8,
   "metadata": {},
   "outputs": [
    {
     "name": "stdout",
     "output_type": "stream",
     "text": [
      "(839.8684432774783, 178.0023433045295)\n"
     ]
    }
   ],
   "source": [
    "result_300k = evaluate_policy(model_300k, env, n_eval_episodes=10, render=False)\n",
    "print(result_300k)"
   ]
  },
  {
   "cell_type": "code",
   "execution_count": 9,
   "metadata": {},
   "outputs": [
    {
     "name": "stdout",
     "output_type": "stream",
     "text": [
      "(878.7514425493777, 34.56326243327295)\n"
     ]
    }
   ],
   "source": [
    "result_500k = evaluate_policy(model_500k, env, n_eval_episodes=10, render=False)\n",
    "print(result_500k)"
   ]
  },
  {
   "cell_type": "code",
   "execution_count": 13,
   "metadata": {},
   "outputs": [
    {
     "data": {
      "image/png": "[encoded data removed]",
      "text/plain": [
       "<Figure size 1080x720 with 1 Axes>"
      ]
     },
     "metadata": {
      "needs_background": "light"
     },
     "output_type": "display_data"
    }
   ],
   "source": [
    "import matplotlib.pyplot as plt\n",
    "\n",
    "fig = plt.figure(figsize=(15, 10))\n",
    "ax = fig.add_axes([0.1, 0.1, 0.75, 0.75])\n",
    "ax.set_xlabel(\"Number of steps of learning\")\n",
    "ax.set_ylabel(\"Average score\")\n",
    "iters = [\"50k\", \"100k\", \"150k\", \"200k\", \"250k\", \"300k\", \"500k\"]\n",
    "results = [\n",
    "    result_50k[0],\n",
    "    result_100k[0],\n",
    "    result_150k[0],\n",
    "    result_200k[0],\n",
    "    result_250k[0],\n",
    "    result_300k[0],\n",
    "    result_500k[0],\n",
    "]\n",
    "\n",
    "ax.bar(iters, results)\n",
    "plt.savefig(\"iters-vs-score.png\")"
   ]
  },
  {
   "cell_type": "code",
   "execution_count": null,
   "metadata": {},
   "outputs": [],
   "source": []
  }
 ],
 "metadata": {
  "interpreter": {
   "hash": "9bb6770e9f8de08bb02080e647ffaac2ba5046d407ef4f2c0a1a7fb2c9e6a194"
  },
  "kernelspec": {
   "display_name": "Python 3.10.4 ('car')",
   "language": "python",
   "name": "python3"
  },
  "language_info": {
   "codemirror_mode": {
    "name": "ipython",
    "version": 3
   },
   "file_extension": ".py",
   "mimetype": "text/x-python",
   "name": "python",
   "nbconvert_exporter": "python",
   "pygments_lexer": "ipython3",
   "version": "3.10.4"
  },
  "orig_nbformat": 4
 },
 "nbformat": 4,
 "nbformat_minor": 2
}
