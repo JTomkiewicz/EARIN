{
 "cells": [
  {
   "cell_type": "markdown",
   "metadata": {},
   "source": [
    "# Exercise 5: Artificial Neural Network\n",
    "## By Jakub Tomkiewicz and Konrad Piotrowski\n",
    "\n",
    "The task is to implement an N-layer perception for Iris classification in Python and verify how a number of layers affect final metrics.\n",
    "\n",
    "We used two popular Python libraries in our work:\n",
    "* **TensorFlow** - provides tools for machine learning and artificial intelligence\n",
    "* **Keras** - provides an interface for handling neural networks"
   ]
  },
  {
   "cell_type": "code",
   "execution_count": 29,
   "metadata": {},
   "outputs": [
    {
     "data": {
      "text/html": [
       "<div>\n",
       "<style scoped>\n",
       "    .dataframe tbody tr th:only-of-type {\n",
       "        vertical-align: middle;\n",
       "    }\n",
       "\n",
       "    .dataframe tbody tr th {\n",
       "        vertical-align: top;\n",
       "    }\n",
       "\n",
       "    .dataframe thead th {\n",
       "        text-align: right;\n",
       "    }\n",
       "</style>\n",
       "<table border=\"1\" class=\"dataframe\">\n",
       "  <thead>\n",
       "    <tr style=\"text-align: right;\">\n",
       "      <th></th>\n",
       "      <th>Id</th>\n",
       "      <th>SepalLengthCm</th>\n",
       "      <th>SepalWidthCm</th>\n",
       "      <th>PetalLengthCm</th>\n",
       "      <th>PetalWidthCm</th>\n",
       "      <th>Species</th>\n",
       "    </tr>\n",
       "  </thead>\n",
       "  <tbody>\n",
       "    <tr>\n",
       "      <th>0</th>\n",
       "      <td>1</td>\n",
       "      <td>5.1</td>\n",
       "      <td>3.5</td>\n",
       "      <td>1.4</td>\n",
       "      <td>0.2</td>\n",
       "      <td>Iris-setosa</td>\n",
       "    </tr>\n",
       "    <tr>\n",
       "      <th>1</th>\n",
       "      <td>2</td>\n",
       "      <td>4.9</td>\n",
       "      <td>3.0</td>\n",
       "      <td>1.4</td>\n",
       "      <td>0.2</td>\n",
       "      <td>Iris-setosa</td>\n",
       "    </tr>\n",
       "    <tr>\n",
       "      <th>2</th>\n",
       "      <td>3</td>\n",
       "      <td>4.7</td>\n",
       "      <td>3.2</td>\n",
       "      <td>1.3</td>\n",
       "      <td>0.2</td>\n",
       "      <td>Iris-setosa</td>\n",
       "    </tr>\n",
       "    <tr>\n",
       "      <th>3</th>\n",
       "      <td>4</td>\n",
       "      <td>4.6</td>\n",
       "      <td>3.1</td>\n",
       "      <td>1.5</td>\n",
       "      <td>0.2</td>\n",
       "      <td>Iris-setosa</td>\n",
       "    </tr>\n",
       "    <tr>\n",
       "      <th>4</th>\n",
       "      <td>5</td>\n",
       "      <td>5.0</td>\n",
       "      <td>3.6</td>\n",
       "      <td>1.4</td>\n",
       "      <td>0.2</td>\n",
       "      <td>Iris-setosa</td>\n",
       "    </tr>\n",
       "  </tbody>\n",
       "</table>\n",
       "</div>"
      ],
      "text/plain": [
       "   Id  SepalLengthCm  SepalWidthCm  PetalLengthCm  PetalWidthCm      Species\n",
       "0   1            5.1           3.5            1.4           0.2  Iris-setosa\n",
       "1   2            4.9           3.0            1.4           0.2  Iris-setosa\n",
       "2   3            4.7           3.2            1.3           0.2  Iris-setosa\n",
       "3   4            4.6           3.1            1.5           0.2  Iris-setosa\n",
       "4   5            5.0           3.6            1.4           0.2  Iris-setosa"
      ]
     },
     "execution_count": 29,
     "metadata": {},
     "output_type": "execute_result"
    }
   ],
   "source": [
    "import pandas as pd\n",
    "\n",
    "data = pd.read_csv('iris.csv')\n",
    "\n",
    "data.head()"
   ]
  },
  {
   "cell_type": "markdown",
   "metadata": {},
   "source": [
    "The distribution shows that we have 150 flowers divided equally (50 pieces) among each of the three species."
   ]
  },
  {
   "cell_type": "code",
   "execution_count": 30,
   "metadata": {},
   "outputs": [
    {
     "name": "stdout",
     "output_type": "stream",
     "text": [
      "Species\n",
      "Iris-setosa        50\n",
      "Iris-versicolor    50\n",
      "Iris-virginica     50\n",
      "dtype: int64\n"
     ]
    }
   ],
   "source": [
    "group = data.groupby('Species').size()\n",
    "\n",
    "print(group)"
   ]
  },
  {
   "cell_type": "markdown",
   "metadata": {},
   "source": [
    "The 'Id' column does not introduce anything important, so we can delete it. We map species written in strings so that they are presented as numbers."
   ]
  },
  {
   "cell_type": "code",
   "execution_count": 31,
   "metadata": {},
   "outputs": [
    {
     "data": {
      "text/html": [
       "<div>\n",
       "<style scoped>\n",
       "    .dataframe tbody tr th:only-of-type {\n",
       "        vertical-align: middle;\n",
       "    }\n",
       "\n",
       "    .dataframe tbody tr th {\n",
       "        vertical-align: top;\n",
       "    }\n",
       "\n",
       "    .dataframe thead th {\n",
       "        text-align: right;\n",
       "    }\n",
       "</style>\n",
       "<table border=\"1\" class=\"dataframe\">\n",
       "  <thead>\n",
       "    <tr style=\"text-align: right;\">\n",
       "      <th></th>\n",
       "      <th>SepalLengthCm</th>\n",
       "      <th>SepalWidthCm</th>\n",
       "      <th>PetalLengthCm</th>\n",
       "      <th>PetalWidthCm</th>\n",
       "      <th>Species</th>\n",
       "    </tr>\n",
       "  </thead>\n",
       "  <tbody>\n",
       "    <tr>\n",
       "      <th>0</th>\n",
       "      <td>5.1</td>\n",
       "      <td>3.5</td>\n",
       "      <td>1.4</td>\n",
       "      <td>0.2</td>\n",
       "      <td>0</td>\n",
       "    </tr>\n",
       "    <tr>\n",
       "      <th>1</th>\n",
       "      <td>4.9</td>\n",
       "      <td>3.0</td>\n",
       "      <td>1.4</td>\n",
       "      <td>0.2</td>\n",
       "      <td>0</td>\n",
       "    </tr>\n",
       "    <tr>\n",
       "      <th>2</th>\n",
       "      <td>4.7</td>\n",
       "      <td>3.2</td>\n",
       "      <td>1.3</td>\n",
       "      <td>0.2</td>\n",
       "      <td>0</td>\n",
       "    </tr>\n",
       "    <tr>\n",
       "      <th>3</th>\n",
       "      <td>4.6</td>\n",
       "      <td>3.1</td>\n",
       "      <td>1.5</td>\n",
       "      <td>0.2</td>\n",
       "      <td>0</td>\n",
       "    </tr>\n",
       "    <tr>\n",
       "      <th>4</th>\n",
       "      <td>5.0</td>\n",
       "      <td>3.6</td>\n",
       "      <td>1.4</td>\n",
       "      <td>0.2</td>\n",
       "      <td>0</td>\n",
       "    </tr>\n",
       "  </tbody>\n",
       "</table>\n",
       "</div>"
      ],
      "text/plain": [
       "   SepalLengthCm  SepalWidthCm  PetalLengthCm  PetalWidthCm Species\n",
       "0            5.1           3.5            1.4           0.2       0\n",
       "1            4.9           3.0            1.4           0.2       0\n",
       "2            4.7           3.2            1.3           0.2       0\n",
       "3            4.6           3.1            1.5           0.2       0\n",
       "4            5.0           3.6            1.4           0.2       0"
      ]
     },
     "execution_count": 31,
     "metadata": {},
     "output_type": "execute_result"
    }
   ],
   "source": [
    "data = data.drop('Id', axis=1)\n",
    "\n",
    "data.loc[data['Species'] == 'Iris-setosa', 'Species'] = 0\n",
    "data.loc[data['Species'] == 'Iris-versicolor', 'Species'] = 1\n",
    "data.loc[data['Species'] == 'Iris-virginica', 'Species'] = 2\n",
    "\n",
    "data.head()"
   ]
  },
  {
   "cell_type": "markdown",
   "metadata": {},
   "source": [
    "The species column still has 'object' as type, so we replace its type with an integer, as it now only contains 0, 1 and 2."
   ]
  },
  {
   "cell_type": "code",
   "execution_count": 32,
   "metadata": {},
   "outputs": [
    {
     "name": "stdout",
     "output_type": "stream",
     "text": [
      "SepalLengthCm    float64\n",
      "SepalWidthCm     float64\n",
      "PetalLengthCm    float64\n",
      "PetalWidthCm     float64\n",
      "Species           object\n",
      "dtype: object\n",
      "\n",
      "SepalLengthCm    float64\n",
      "SepalWidthCm     float64\n",
      "PetalLengthCm    float64\n",
      "PetalWidthCm     float64\n",
      "Species            int64\n",
      "dtype: object\n"
     ]
    }
   ],
   "source": [
    "print(data.dtypes)\n",
    "\n",
    "data = data.apply(pd.to_numeric)\n",
    "\n",
    "print()\n",
    "print(data.dtypes)"
   ]
  },
  {
   "cell_type": "markdown",
   "metadata": {},
   "source": [
    "With the help of the matplotlib library, we can quickly see how the comparison of the length and width of the petal and the sepal looks on the chart."
   ]
  },
  {
   "cell_type": "code",
   "execution_count": 33,
   "metadata": {},
   "outputs": [
    {
     "name": "stdout",
     "output_type": "stream",
     "text": [
      "Legend:\n",
      "Violet - Iris-setosa\n",
      "Green - Iris-versicolor\n",
      "Yellow - Iris-virginica\n"
     ]
    },
    {
     "data": {
      "image/png": "[encoded data removed]",
      "text/plain": [
       "<Figure size 576x288 with 1 Axes>"
      ]
     },
     "metadata": {
      "needs_background": "light"
     },
     "output_type": "display_data"
    },
    {
     "data": {
      "image/png": "[encoded data removed]",
      "text/plain": [
       "<Figure size 576x288 with 1 Axes>"
      ]
     },
     "metadata": {
      "needs_background": "light"
     },
     "output_type": "display_data"
    }
   ],
   "source": [
    "import matplotlib.pyplot as plt\n",
    "\n",
    "print('Legend:')\n",
    "print('Violet - Iris-setosa')\n",
    "print('Green - Iris-versicolor')\n",
    "print('Yellow - Iris-virginica')\n",
    "\n",
    "plt.figure(figsize=(8, 4))\n",
    "plt.scatter(data.iloc[:, 0], data.iloc[:, 1], c = data['Species'])\n",
    "plt.title('Sepal')\n",
    "plt.xlabel(data.columns[0])\n",
    "plt.ylabel(data.columns[1])\n",
    "plt.show()\n",
    "\n",
    "plt.figure(figsize=(8, 4))\n",
    "plt.scatter(data.iloc[:, 2], data.iloc[:, 3], c = data['Species'])\n",
    "plt.title('Petal')\n",
    "plt.xlabel(data.columns[2])\n",
    "plt.ylabel(data.columns[3])\n",
    "plt.show()"
   ]
  },
  {
   "cell_type": "markdown",
   "metadata": {},
   "source": [
    "As x data, we treat the first four columns that contain heights and widths of the petal and the sepal. Species is y data."
   ]
  },
  {
   "cell_type": "code",
   "execution_count": 34,
   "metadata": {},
   "outputs": [],
   "source": [
    "data_array = data.values\n",
    "\n",
    "x_data = data_array[:, :4]\n",
    "y_data = data_array[:, 4]"
   ]
  },
  {
   "cell_type": "markdown",
   "metadata": {},
   "source": [
    "80% of our set (exactly 120 tuples) are used for learning, and 20% (the remaining 30 tuples) are used for testing."
   ]
  },
  {
   "cell_type": "code",
   "execution_count": 35,
   "metadata": {},
   "outputs": [],
   "source": [
    "import tensorflow as tf\n",
    "from sklearn.model_selection import train_test_split\n",
    "from sklearn.preprocessing import StandardScaler\n",
    "\n",
    "train_x, test_x, train_y, test_y = train_test_split(x_data, y_data, test_size=0.2)\n",
    "\n",
    "ss = StandardScaler()\n",
    "\n",
    "train_x = ss.fit_transform(train_x)\n",
    "test_x = ss.transform(test_x)\n",
    "train_y = tf.keras.utils.to_categorical(train_y)"
   ]
  },
  {
   "cell_type": "markdown",
   "metadata": {},
   "source": [
    "To simplify the testing of various neural network models, we wrote a function that performs training, testing, and printing the obtained results.\n",
    "\n",
    "Function takes two parameters: \n",
    "* network model \n",
    "* loss function (also called cost function)\n",
    "\n",
    "Function outputs three values:\n",
    "* **Accuracy** - the probability of correct classification outcome\n",
    "* **Precision** - the quality of a positive prediction made by the model (the number of true positives divided by the sum of true positives and false positives)\n",
    "* **Recall** - the ability to detect positive samples (the number of true positives divided by the sum of true positives and false negatives)"
   ]
  },
  {
   "cell_type": "code",
   "execution_count": 36,
   "metadata": {},
   "outputs": [],
   "source": [
    "import numpy as np\n",
    "from sklearn.metrics import classification_report\n",
    "\n",
    "def train_test_model(model, loss_object):\n",
    "    optimizer = tf.keras.optimizers.SGD(learning_rate=0.01, momentum=0.9)\n",
    "\n",
    "    n = 500\n",
    "    loss = 0\n",
    "\n",
    "    for i in range(n):\n",
    "        with tf.GradientTape() as tape:\n",
    "            predictions = model(train_x)\n",
    "            loss = loss_object(train_y, predictions)\n",
    "\n",
    "        gradients = tape.gradient(loss, model.trainable_variables)\n",
    "        optimizer.apply_gradients(zip(gradients, model.trainable_variables))\n",
    "\n",
    "    print(f'Loss: {loss}')\n",
    "\n",
    "    pred = np.argmax(model(test_x), axis=1)\n",
    "\n",
    "    accuracy = np.sum(pred == test_y)/len(test_y) * 100\n",
    "\n",
    "    print(f'Accuracy: {accuracy}%')\n",
    "\n",
    "    print('Prediction:')\n",
    "    print(pred)\n",
    "\n",
    "    print('Target:')\n",
    "    print(np.asarray(test_y).astype('int64'))  \n",
    "\n",
    "    print(classification_report(test_y, pred))"
   ]
  },
  {
   "cell_type": "markdown",
   "metadata": {},
   "source": [
    "### Neural net design \n",
    "In all our test cases, the design of the neural nets is similar. The only thing we are changing between the cases is the number of hidden layers.\n",
    "\n",
    "* **input layer** - the size of the input layer needs to be the same as the number of features, so in our case, it is 4\n",
    "* **hidden layer** - for our hidden layer, we decided to use a size equal to 10\n",
    "* **output layer** - the output layer needs to have the number of neurons equal to the number of classification outcomes, so in this case, it is 3\n",
    "\n",
    "### Mean squared error\n",
    "The mean squared errors definition is pretty self-explanatory. It is the mean value of squared differences between the actual value and the estimation made by the model.\n",
    "\n",
    "The first test case for MSE is a neural network with a single hidden layer."
   ]
  },
  {
   "cell_type": "code",
   "execution_count": 47,
   "metadata": {},
   "outputs": [
    {
     "name": "stdout",
     "output_type": "stream",
     "text": [
      "loss: 0.03244296833872795\n",
      "Accuracy: 93.33333333333333%\n",
      "Prediction:\n",
      "[0 2 1 1 2 0 1 1 2 0 1 2 2 2 1 2 2 0 1 2 2 0 0 0 1 1 1 2 1 2]\n",
      "Target:\n",
      "[0 2 1 1 2 0 1 2 2 0 1 2 2 2 1 2 1 0 1 2 2 0 0 0 1 1 1 2 1 2]\n",
      "              precision    recall  f1-score   support\n",
      "\n",
      "         0.0       1.00      1.00      1.00         7\n",
      "         1.0       0.91      0.91      0.91        11\n",
      "         2.0       0.92      0.92      0.92        12\n",
      "\n",
      "    accuracy                           0.93        30\n",
      "   macro avg       0.94      0.94      0.94        30\n",
      "weighted avg       0.93      0.93      0.93        30\n",
      "\n"
     ]
    }
   ],
   "source": [
    "input_layer = tf.keras.layers.Input(shape=(4,))\n",
    "hidden_layer1 = tf.keras.layers.Dense(units=10, activation=tf.nn.relu)(input_layer)\n",
    "output_layer = tf.keras.layers.Dense(units=3, activation=tf.nn.softmax)(hidden_layer1)\n",
    "\n",
    "train_test_model(tf.keras.Model(input_layer, output_layer), tf.keras.losses.MeanSquaredError())"
   ]
  },
  {
   "cell_type": "markdown",
   "metadata": {},
   "source": [
    "The second case is a net with two hidden layers."
   ]
  },
  {
   "cell_type": "code",
   "execution_count": 48,
   "metadata": {},
   "outputs": [
    {
     "name": "stdout",
     "output_type": "stream",
     "text": [
      "loss: 0.018980512395501137\n",
      "Accuracy: 93.33333333333333%\n",
      "Prediction:\n",
      "[0 2 1 1 2 0 1 1 2 0 1 2 1 2 1 2 1 0 1 2 2 0 0 0 1 1 1 2 1 2]\n",
      "Target:\n",
      "[0 2 1 1 2 0 1 2 2 0 1 2 2 2 1 2 1 0 1 2 2 0 0 0 1 1 1 2 1 2]\n",
      "              precision    recall  f1-score   support\n",
      "\n",
      "         0.0       1.00      1.00      1.00         7\n",
      "         1.0       0.85      1.00      0.92        11\n",
      "         2.0       1.00      0.83      0.91        12\n",
      "\n",
      "    accuracy                           0.93        30\n",
      "   macro avg       0.95      0.94      0.94        30\n",
      "weighted avg       0.94      0.93      0.93        30\n",
      "\n"
     ]
    }
   ],
   "source": [
    "input_layer = tf.keras.layers.Input(shape=(4,))\n",
    "hidden_layer1 = tf.keras.layers.Dense(units=10, activation=tf.nn.relu)(input_layer)\n",
    "hidden_layer2 = tf.keras.layers.Dense(units=10, activation=tf.nn.relu)(hidden_layer1)\n",
    "output_layer = tf.keras.layers.Dense(units=3, activation=tf.nn.softmax)(hidden_layer2)\n",
    "\n",
    "train_test_model(tf.keras.Model(input_layer, output_layer), tf.keras.losses.MeanSquaredError())"
   ]
  },
  {
   "cell_type": "markdown",
   "metadata": {},
   "source": [
    "Lastly, we used a net with three hidden layers."
   ]
  },
  {
   "cell_type": "code",
   "execution_count": 49,
   "metadata": {},
   "outputs": [
    {
     "name": "stdout",
     "output_type": "stream",
     "text": [
      "loss: 0.021601490676403046\n",
      "Accuracy: 93.33333333333333%\n",
      "Prediction:\n",
      "[0 2 1 1 2 0 1 1 2 0 1 2 1 2 1 2 1 0 1 2 2 0 0 0 1 1 1 2 1 2]\n",
      "Target:\n",
      "[0 2 1 1 2 0 1 2 2 0 1 2 2 2 1 2 1 0 1 2 2 0 0 0 1 1 1 2 1 2]\n",
      "              precision    recall  f1-score   support\n",
      "\n",
      "         0.0       1.00      1.00      1.00         7\n",
      "         1.0       0.85      1.00      0.92        11\n",
      "         2.0       1.00      0.83      0.91        12\n",
      "\n",
      "    accuracy                           0.93        30\n",
      "   macro avg       0.95      0.94      0.94        30\n",
      "weighted avg       0.94      0.93      0.93        30\n",
      "\n"
     ]
    }
   ],
   "source": [
    "input_layer = tf.keras.layers.Input(shape=(4,))\n",
    "hidden_layer1 = tf.keras.layers.Dense(units=10, activation=tf.nn.relu)(input_layer)\n",
    "hidden_layer2 = tf.keras.layers.Dense(units=10, activation=tf.nn.relu)(hidden_layer1)\n",
    "hidden_layer3 = tf.keras.layers.Dense(units=10, activation=tf.nn.relu)(hidden_layer2)\n",
    "output_layer = tf.keras.layers.Dense(units=3, activation=tf.nn.softmax)(hidden_layer3)\n",
    "\n",
    "train_test_model(tf.keras.Model(input_layer, output_layer), tf.keras.losses.MeanSquaredError())"
   ]
  },
  {
   "cell_type": "code",
   "execution_count": 50,
   "metadata": {},
   "outputs": [
    {
     "name": "stdout",
     "output_type": "stream",
     "text": [
      "loss: 0.06972547620534897\n",
      "Accuracy: 93.33333333333333%\n",
      "Prediction:\n",
      "[0 2 1 1 2 0 1 1 2 0 1 2 1 2 1 2 1 0 1 2 2 0 0 0 1 1 1 2 1 2]\n",
      "Target:\n",
      "[0 2 1 1 2 0 1 2 2 0 1 2 2 2 1 2 1 0 1 2 2 0 0 0 1 1 1 2 1 2]\n",
      "              precision    recall  f1-score   support\n",
      "\n",
      "         0.0       1.00      1.00      1.00         7\n",
      "         1.0       0.85      1.00      0.92        11\n",
      "         2.0       1.00      0.83      0.91        12\n",
      "\n",
      "    accuracy                           0.93        30\n",
      "   macro avg       0.95      0.94      0.94        30\n",
      "weighted avg       0.94      0.93      0.93        30\n",
      "\n"
     ]
    }
   ],
   "source": [
    "input_layer = tf.keras.layers.Input(shape=(4,))\n",
    "hidden_layer1 = tf.keras.layers.Dense(units=10, activation=tf.nn.relu)(input_layer)\n",
    "output_layer = tf.keras.layers.Dense(units=3, activation=tf.nn.softmax)(hidden_layer1)\n",
    "\n",
    "train_test_model(tf.keras.Model(input_layer, output_layer), tf.keras.losses.BinaryCrossentropy())"
   ]
  },
  {
   "cell_type": "code",
   "execution_count": 51,
   "metadata": {},
   "outputs": [
    {
     "name": "stdout",
     "output_type": "stream",
     "text": [
      "loss: 0.03759516775608063\n",
      "Accuracy: 93.33333333333333%\n",
      "Prediction:\n",
      "[0 2 1 1 2 0 1 1 2 0 1 2 1 2 1 2 1 0 1 2 2 0 0 0 1 1 1 2 1 2]\n",
      "Target:\n",
      "[0 2 1 1 2 0 1 2 2 0 1 2 2 2 1 2 1 0 1 2 2 0 0 0 1 1 1 2 1 2]\n",
      "              precision    recall  f1-score   support\n",
      "\n",
      "         0.0       1.00      1.00      1.00         7\n",
      "         1.0       0.85      1.00      0.92        11\n",
      "         2.0       1.00      0.83      0.91        12\n",
      "\n",
      "    accuracy                           0.93        30\n",
      "   macro avg       0.95      0.94      0.94        30\n",
      "weighted avg       0.94      0.93      0.93        30\n",
      "\n"
     ]
    }
   ],
   "source": [
    "input_layer = tf.keras.Input(shape=(4,))\n",
    "hidden_layer1 = tf.keras.layers.Dense(units=10, activation=tf.nn.relu)(input_layer)\n",
    "hidden_layer2 = tf.keras.layers.Dense(units=10, activation=tf.nn.relu)(hidden_layer1)\n",
    "output_layer = tf.keras.layers.Dense(units=3, activation=tf.nn.softmax)(hidden_layer2)\n",
    "\n",
    "train_test_model(tf.keras.Model(input_layer, output_layer), tf.keras.losses.BinaryCrossentropy())"
   ]
  },
  {
   "cell_type": "code",
   "execution_count": 52,
   "metadata": {},
   "outputs": [
    {
     "name": "stdout",
     "output_type": "stream",
     "text": [
      "loss: 0.032177139073610306\n",
      "Accuracy: 93.33333333333333%\n",
      "Prediction:\n",
      "[0 2 2 1 2 0 1 1 2 0 1 2 2 2 1 2 1 0 1 2 2 0 0 0 1 1 1 2 1 2]\n",
      "Target:\n",
      "[0 2 1 1 2 0 1 2 2 0 1 2 2 2 1 2 1 0 1 2 2 0 0 0 1 1 1 2 1 2]\n",
      "              precision    recall  f1-score   support\n",
      "\n",
      "         0.0       1.00      1.00      1.00         7\n",
      "         1.0       0.91      0.91      0.91        11\n",
      "         2.0       0.92      0.92      0.92        12\n",
      "\n",
      "    accuracy                           0.93        30\n",
      "   macro avg       0.94      0.94      0.94        30\n",
      "weighted avg       0.93      0.93      0.93        30\n",
      "\n"
     ]
    }
   ],
   "source": [
    "input_layer = tf.keras.Input(shape=(4,))\n",
    "hidden_layer1 = tf.keras.layers.Dense(units=20, activation=tf.nn.relu)(input_layer)\n",
    "hidden_layer2 = tf.keras.layers.Dense(units=10, activation=tf.nn.relu)(hidden_layer1)\n",
    "hidden_layer3 = tf.keras.layers.Dense(units=10, activation=tf.nn.relu)(hidden_layer2)\n",
    "output_layer = tf.keras.layers.Dense(units=3, activation=tf.nn.softmax)(hidden_layer3)\n",
    "\n",
    "train_test_model(tf.keras.Model(input_layer, output_layer), tf.keras.losses.BinaryCrossentropy())"
   ]
  }
 ],
 "metadata": {
  "interpreter": {
   "hash": "fdb8760a1dd5caf0ece1bc5a0eb846bf05e4b2b17c7bd27bbc3f0dac0e4564b1"
  },
  "kernelspec": {
   "display_name": "Python 3 (ipykernel)",
   "language": "python",
   "name": "python3"
  },
  "language_info": {
   "codemirror_mode": {
    "name": "ipython",
    "version": 3
   },
   "file_extension": ".py",
   "mimetype": "text/x-python",
   "name": "python",
   "nbconvert_exporter": "python",
   "pygments_lexer": "ipython3",
   "version": "3.8.10"
  }
 },
 "nbformat": 4,
 "nbformat_minor": 2
}
